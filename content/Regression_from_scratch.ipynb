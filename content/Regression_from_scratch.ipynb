{
 "cells": [
  {
   "cell_type": "markdown",
   "metadata": {},
   "source": [
    "#### Regression From scratch"
   ]
  },
  {
   "cell_type": "markdown",
   "metadata": {},
   "source": [
    "Let's load the required library"
   ]
  },
  {
   "cell_type": "code",
   "execution_count": 3,
   "metadata": {},
   "outputs": [],
   "source": [
    "import numpy as np\n",
    "import math\n",
    "#import MLModelFromScratch.utils import normalize,polynomial_features"
   ]
  },
  {
   "cell_type": "markdown",
   "metadata": {},
   "source": [
    "We write some util function required in pre-processing"
   ]
  },
  {
   "cell_type": "code",
   "execution_count": 4,
   "metadata": {},
   "outputs": [],
   "source": [
    "def normalize(X,axis=-1,order=2):\n",
    "    \"Normalize Dataset X\"\n",
    "    l2=np.atleast_1d(np.linalg.norm(X,order,axis))\n",
    "    l2[l2==0]=1\n",
    "    return X/np.expand_dims(l2,order)"
   ]
  },
  {
   "cell_type": "code",
   "execution_count": 5,
   "metadata": {},
   "outputs": [],
   "source": [
    "def polynomial_features(X,degree):\n",
    "    \"\"\"create polynomial features\n",
    "    X: Input data\n",
    "    degree: degree used to transform the feature\n",
    "    \"\"\"\n",
    "    n_samples,n_features=np.shape(X)\n",
    "    def index_combinations():\n",
    "        combs=[combination_with_replacement(range(n_features),i) for i in range(0,degree+1)]\n",
    "        flat_combs=[item for sublist in combs for item in sublist]\n",
    "        return flat_combs\n",
    "    combinations=index_combinations()\n",
    "    n_output_features=len(combinations)\n",
    "    X_new=np.empty((n_samples,n_output_features))\n",
    "    \n",
    "    for i,index_combs in enumerate(combinations):\n",
    "        X_new[:,i]=np.prod(X[:,index_combs],axis=1)\n",
    "    return X_new\n"
   ]
  },
  {
   "cell_type": "code",
   "execution_count": 6,
   "metadata": {},
   "outputs": [],
   "source": [
    "class Regression(object):\n",
    "    \"\"\" Base regression model\n",
    "    Parameters:\n",
    "    ietration: float\n",
    "    Number of training iterations that algorithm will tune weights \n",
    "    learning_rate: float\n",
    "    The step length that will be used when updating weights\n",
    "    \"\"\"\n",
    "    def __init__(self,n_iterations,learning_rate):\n",
    "        #Assign n_iterations and learning_rate to class variable\n",
    "        self.n_iterations=n_iterations\n",
    "        self.learning_rate=learning_rate\n",
    "        self.regularization=lambda x:0\n",
    "        self.regularization.grad=lambda x:0\n",
    "        \n",
    "    def initialize_weights(self,n_features):\n",
    "        # initialize weights randomly between [-1/N,1/N]\n",
    "        limit=1/n_features\n",
    "        self.w=np.random.uniform(-limit,limit,(n_features))\n",
    "        \n",
    "    def fit(self,X,y):\n",
    "        \"\"\" model relationship between scalar dependent variable and independent variable\n",
    "        \"\"\"\n",
    "        #Insert constant 1 for bias\n",
    "        X=np.insert(X,0,1,axis=1)\n",
    "        self.training_errors=[]\n",
    "        self.initialize_weights(n_features=X.shape[1])\n",
    "        \n",
    "        #Do gradient descent for n_iterations\n",
    "        for i in range(self.n_iterations):\n",
    "            y_pred=X.dot(self.w)\n",
    "            #Calculate l2-loss\n",
    "            mse=np.mean(np.power(y-y_pred,2)+self.regularization(self.w))\n",
    "            self.training_errors.append(mse)\n",
    "            #gradient l2 loss w.r.t w\n",
    "            grad_w=-(y-y_pred).dot(X)+self.regularization.grad(self.w)\n",
    "            \n",
    "            #update weights\n",
    "            self.w-=self.learning_rate*grad_w\n",
    "    def predict(self,X):\n",
    "        #Insert constant 1 for bias\n",
    "        X=np.insert(X,0,1,axis=1)\n",
    "        y_pred=X.dot(self.w)\n",
    "        return y_pred\n",
    "    "
   ]
  },
  {
   "cell_type": "code",
   "execution_count": null,
   "metadata": {},
   "outputs": [],
   "source": []
  }
 ],
 "metadata": {
  "kernelspec": {
   "display_name": "Python 3",
   "language": "python",
   "name": "python3"
  },
  "language_info": {
   "codemirror_mode": {
    "name": "ipython",
    "version": 3
   },
   "file_extension": ".py",
   "mimetype": "text/x-python",
   "name": "python",
   "nbconvert_exporter": "python",
   "pygments_lexer": "ipython3",
   "version": "3.6.3"
  }
 },
 "nbformat": 4,
 "nbformat_minor": 2
}
